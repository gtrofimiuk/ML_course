{
  "cells": [
    {
      "cell_type": "markdown",
      "metadata": {
        "id": "view-in-github",
        "colab_type": "text"
      },
      "source": [
        "<a href=\"https://colab.research.google.com/github/gtrofimiuk/ML_course/blob/HW1/MusicGenres.ipynb\" target=\"_parent\"><img src=\"https://colab.research.google.com/assets/colab-badge.svg\" alt=\"Open In Colab\"/></a>"
      ]
    },
    {
      "cell_type": "markdown",
      "source": [
        "Датасет https://www.kaggle.com/datasets/vicsuperman/prediction-of-music-genre/data"
      ],
      "metadata": {
        "id": "_GKwjBlLMSA_"
      }
    },
    {
      "cell_type": "markdown",
      "source": [
        "Изначально я скачивал через код ниже, но, оказалось, что DATA_SOURCE_MAPPING временный. В принципе, датасет уже есть в репозитории, ну или можно взять из kaggle\n",
        "\n",
        "В любом случае, папки создам"
      ],
      "metadata": {
        "id": "Z6gHNKmvMf6x"
      }
    },
    {
      "cell_type": "code",
      "source": [
        "import os\n",
        "os.makedirs(\"sample_data/prediction-of-music-genre\", 0o777, exist_ok=True)"
      ],
      "metadata": {
        "id": "Jsc1ZJjIM35L"
      },
      "execution_count": 1,
      "outputs": []
    },
    {
      "cell_type": "code",
      "execution_count": null,
      "metadata": {
        "id": "2AZS2AMSYNfF"
      },
      "outputs": [],
      "source": [
        "# IMPORTANT: RUN THIS CELL IN ORDER TO IMPORT YOUR KAGGLE DATA SOURCES\n",
        "# TO THE CORRECT LOCATION (/kaggle/input) IN YOUR NOTEBOOK,\n",
        "# THEN FEEL FREE TO DELETE THIS CELL.\n",
        "# NOTE: THIS NOTEBOOK ENVIRONMENT DIFFERS FROM KAGGLE'S PYTHON\n",
        "# ENVIRONMENT SO THERE MAY BE MISSING LIBRARIES USED BY YOUR\n",
        "# NOTEBOOK.\n",
        "\n",
        "import sys\n",
        "from tempfile import NamedTemporaryFile\n",
        "from urllib.request import urlopen\n",
        "from urllib.parse import unquote, urlparse\n",
        "from urllib.error import HTTPError\n",
        "from zipfile import ZipFile\n",
        "import tarfile\n",
        "import shutil\n",
        "\n",
        "CHUNK_SIZE = 40960\n",
        "DATA_SOURCE_MAPPING = 'prediction-of-music-genre:https%3A%2F%2Fstorage.googleapis.com%2Fkaggle-data-sets%2F1690118%2F2769452%2Fbundle%2Farchive.zip%3FX-Goog-Algorithm%3DGOOG4-RSA-SHA256%26X-Goog-Credential%3Dgcp-kaggle-com%2540kaggle-161607.iam.gserviceaccount.com%252F20240131%252Fauto%252Fstorage%252Fgoog4_request%26X-Goog-Date%3D20240131T163614Z%26X-Goog-Expires%3D259200%26X-Goog-SignedHeaders%3Dhost%26X-Goog-Signature%3Da7baa0c32bc50dbc5f8a6acb57083e776b5012d59bae1d3c5933a39ffc813ef54f87ae16c8cdf17e0b7283cf4db66ddbdc8bbdf868d445fb511d710633eedb4fc62278a68f8b3c8eb85b128f44e128f069181ac5c585c014607f2fe9ee77cba72572d05edf6ff87243b28de02b6f261e905d1dd48c088c9a7463cddd55b5005bc5954343682d3511e6393190d67993e328dc027c8a82f1bf3e47cc52239ac5de04488d4bac6a47de135b7a3645af62d0c07639f1b32b0ac039a5cf9d82805c4e6c22f98d967f9cb5aa6d26e2f2af56f63a1301058fe6e540057e95a0ce6c17e030d47265e5f5e073b66760f188375e21ebcbd0707ae64da63257d1c13d5e4a00'\n",
        "\n",
        "\n",
        "for data_source_mapping in DATA_SOURCE_MAPPING.split(','):\n",
        "    directory, download_url_encoded = data_source_mapping.split(':')\n",
        "    download_url = unquote(download_url_encoded)\n",
        "    filename = urlparse(download_url).path\n",
        "    destination_path = os.path.join(\"sample_data\", directory)\n",
        "    try:\n",
        "        with urlopen(download_url) as fileres, NamedTemporaryFile() as tfile:\n",
        "            total_length = fileres.headers['content-length']\n",
        "            print(f'Downloading {directory}, {total_length} bytes compressed')\n",
        "            dl = 0\n",
        "            data = fileres.read(CHUNK_SIZE)\n",
        "            while len(data) > 0:\n",
        "                dl += len(data)\n",
        "                tfile.write(data)\n",
        "                done = int(50 * dl / int(total_length))\n",
        "                sys.stdout.write(f\"\\r[{'=' * done}{' ' * (50-done)}] {dl} bytes downloaded\")\n",
        "                sys.stdout.flush()\n",
        "                data = fileres.read(CHUNK_SIZE)\n",
        "            if filename.endswith('.zip'):\n",
        "              with ZipFile(tfile) as zfile:\n",
        "                zfile.extractall(destination_path)\n",
        "            else:\n",
        "              with tarfile.open(tfile.name) as tarfile:\n",
        "                tarfile.extractall(destination_path)\n",
        "            print(f'\\nDownloaded and uncompressed: {directory}')\n",
        "    except HTTPError as e:\n",
        "        print(f'Failed to load (likely expired) {download_url} to path {destination_path}')\n",
        "        continue\n",
        "    except OSError as e:\n",
        "        print(f'Failed to load {download_url} to path {destination_path}')\n",
        "        continue\n",
        "\n",
        "print('Data source import complete.')\n"
      ]
    },
    {
      "cell_type": "code",
      "source": [
        "!pip install basemap > None"
      ],
      "metadata": {
        "id": "qvpBLEnQPFK9"
      },
      "execution_count": 2,
      "outputs": []
    },
    {
      "cell_type": "code",
      "source": [
        "!pip install --upgrade matplotlib > None # need refresh enviroment after installation"
      ],
      "metadata": {
        "id": "-5LWjKhvPB9C"
      },
      "execution_count": 3,
      "outputs": []
    },
    {
      "cell_type": "code",
      "execution_count": 4,
      "metadata": {
        "_cell_guid": "b1076dfc-b9ad-4769-8c92-a6c4dae69d19",
        "_uuid": "8f2839f25d086af736a60e9eeb907d3b93b6e0e5",
        "id": "jv97lnsgYNfG"
      },
      "outputs": [],
      "source": [
        "import warnings\n",
        "warnings.filterwarnings('ignore')\n",
        "\n",
        "import numpy as np\n",
        "import pandas as pd\n",
        "\n",
        "import seaborn as sns\n",
        "from matplotlib import pyplot as plt\n",
        "from matplotlib.cbook import boxplot_stats\n",
        "from mpl_toolkits.basemap import Basemap\n",
        "\n",
        "from sklearn.preprocessing import StandardScaler, LabelEncoder\n",
        "from sklearn.decomposition import PCA\n",
        "\n",
        "%matplotlib inline"
      ]
    },
    {
      "cell_type": "markdown",
      "source": [
        "# Данные\n",
        "\n",
        "Набор данных состоит из различных параметров музыкальных треков"
      ],
      "metadata": {
        "id": "6gHLzuaNPusq"
      }
    },
    {
      "cell_type": "code",
      "source": [
        "dataset_path = \"sample_data/prediction-of-music-genre/music_genre.csv\"\n",
        "data = pd.read_csv(dataset_path)"
      ],
      "metadata": {
        "id": "PcXykTijO3gp"
      },
      "execution_count": 13,
      "outputs": []
    },
    {
      "cell_type": "code",
      "source": [
        "data.head()"
      ],
      "metadata": {
        "id": "ue6ez3TgQEP4"
      },
      "execution_count": null,
      "outputs": []
    },
    {
      "cell_type": "code",
      "source": [
        "data.shape"
      ],
      "metadata": {
        "colab": {
          "base_uri": "https://localhost:8080/"
        },
        "id": "nC4gllgKRPHD",
        "outputId": "939c53f9-f9f3-406c-a31c-c1e5119f9940"
      },
      "execution_count": 7,
      "outputs": [
        {
          "output_type": "execute_result",
          "data": {
            "text/plain": [
              "(50005, 18)"
            ]
          },
          "metadata": {},
          "execution_count": 7
        }
      ]
    },
    {
      "cell_type": "markdown",
      "source": [
        "## Признаки в датасете"
      ],
      "metadata": {
        "id": "AqHBSqSFRfyf"
      }
    },
    {
      "cell_type": "code",
      "source": [
        "data.dtypes"
      ],
      "metadata": {
        "colab": {
          "base_uri": "https://localhost:8080/"
        },
        "id": "qzTKOYkqRavb",
        "outputId": "e1715121-66e1-4847-a170-7aaca5722972"
      },
      "execution_count": 8,
      "outputs": [
        {
          "output_type": "execute_result",
          "data": {
            "text/plain": [
              "instance_id         float64\n",
              "artist_name          object\n",
              "track_name           object\n",
              "popularity          float64\n",
              "acousticness        float64\n",
              "danceability        float64\n",
              "duration_ms         float64\n",
              "energy              float64\n",
              "instrumentalness    float64\n",
              "key                  object\n",
              "liveness            float64\n",
              "loudness            float64\n",
              "mode                 object\n",
              "speechiness         float64\n",
              "tempo                object\n",
              "obtained_date        object\n",
              "valence             float64\n",
              "music_genre          object\n",
              "dtype: object"
            ]
          },
          "metadata": {},
          "execution_count": 8
        }
      ]
    },
    {
      "cell_type": "markdown",
      "source": [
        "Как можно увидеть, изначально у нас есть 18 описание которых можно найти на https://developer.spotify.com/documentation/web-api/reference/get-audio-features\n",
        "\n",
        "Ниже курсивом буду писать описание из этого сайта\n",
        "\n",
        "(Отмечу, что на данный момент Spotify запрещает использовать свое API для тренировки моделей машинного обучения, но, в РФ они не работают, да и датасет лежит в открытом доступе, так что ладно. Но вот обновить его уже сложно)\n",
        "\n",
        "* instance_id - Идентификатор, без особого смысла\n",
        "* artist_name - Исполнитель песни\n",
        "* track_name - Название трека\n",
        "* popularity - *The popularity of the track. The value will be between 0 and 100, with 100 being the most popular.  The popularity of a track is a value between 0 and 100, with 100 being the most popular. The popularity is calculated by algorithm and is based, in the most part, on the total number of plays the track has had and how recent those plays are.\n",
        "Generally speaking, songs that are being played a lot now will have a higher popularity than songs that were played a lot in the past*\n",
        "* acousticness - *A confidence measure from 0.0 to 1.0 of whether the track is acoustic. 1.0 represents high confidence the track is acoustic*\n",
        "\n",
        "* danceability - *Danceability describes how suitable a track is for dancing based on a combination of musical elements including tempo, rhythm stability, beat strength, and overall regularity. A value of 0.0 is least danceable and 1.0 is most danceable*\n",
        "\n",
        "* duration_ms - *The duration of the track in milliseconds*\n",
        "\n",
        "* energy - *Energy is a measure from 0.0 to 1.0 and represents a perceptual measure of intensity and activity. Typically, energetic tracks feel fast, loud, and noisy. For example, death metal has high energy, while a Bach prelude scores low on the scale. Perceptual features contributing to this attribute include dynamic range, perceived loudness, timbre, onset rate, and general entropy*\n",
        "\n",
        "* instrumentalness - *Predicts whether a track contains no vocals. \"Ooh\" and \"aah\" sounds are treated as instrumental in this context. Rap or spoken word tracks are clearly \"vocal\". The closer the instrumentalness value is to 1.0, the greater likelihood the track contains no vocal content. Values above 0.5 are intended to represent instrumental tracks, but confidence is higher as the value approaches 1.0*\n",
        "\n",
        "* key - *The key the track is in. Integers map to pitches using standard Pitch Class notation. E.g. 0 = C, 1 = C♯/D♭, 2 = D, and so on. If no key was detected, the value is -1.*\n",
        "\n",
        "  В русской музыкальной традции ближайший аналог - тональность\n",
        "\n",
        "* liveness - *Detects the presence of an audience in the recording. Higher liveness values represent an increased probability that the track was performed live. A value above 0.8 provides strong likelihood that the track is live.*\n",
        "\n",
        "  Сомнительно, что это можно использовать для классификации, но посмотрим. Возможно, что есть жанры, где чаще записывают лайвы\n",
        "\n",
        "* loudness - *The overall loudness of a track in decibels (dB). Loudness values are averaged across the entire track and are useful for comparing relative loudness of tracks. Loudness is the quality of a sound that is the primary psychological correlate of physical strength (amplitude). Values typically range between -60 and 0 db*\n",
        "\n",
        "  Тоже вопрос, как эта метрика измерялась. Наверное, некоторые жанры такой признак может различить, поскольку электро обычно сильно громче блюза. Но, конечно же, многое зависит от сведения и мастеринга у трека\n",
        "\n",
        "* mode - *Mode indicates the modality (major or minor) of a track, the type of scale from which its melodic content is derived. Major is represented by 1 and minor is 0*\n",
        "\n",
        "  Ближайший аналог - лад, но, лично я никогда не видел, чтобы key и mode рассматривались отдельно\n",
        "\n",
        "* speechiness -*Speechiness detects the presence of spoken words in a track. The more exclusively speech-like the recording (e.g. talk show, audio book, poetry), the closer to 1.0 the attribute value. Values above 0.66 describe tracks that are probably made entirely of spoken words. Values between 0.33 and 0.66 describe tracks that may contain both music and speech, either in sections or layered, including such cases as rap music. Values below 0.33 most likely represent music and other non-speech-like tracks*\n",
        "\n",
        "  Тут конечно некоторые жанры можно сильно различить. Например, рэп от классической музыки\n",
        "\n",
        "* tempo - *The overall estimated tempo of a track in beats per minute (BPM). In musical terminology, tempo is the speed or pace of a given piece and derives directly from the average beat duration*\n",
        "\n",
        "* obtained_date - дата извлечения из датасета, тоже смысла не имеет\n",
        "\n",
        "* valence - *A measure from 0.0 to 1.0 describing the musical positiveness conveyed by a track. Tracks with high valence sound more positive (e.g. happy, cheerful, euphoric), while tracks with low valence sound more negative (e.g. sad, depressed, angry)*\n",
        "\n",
        "* music_genre - Жанр музыки. Вообще, если бы это была серьезная работа для индустрии, то надо было бы заморочиться с тем, что мы считаем каким жанром. Тем более, не редки смеси жанров. Но, сейчас, в учебных целях, будем считать что Spotify разметил данные вот так и будем предсказывать по этой модели\n",
        "\n",
        "\n",
        "**target: music_genre**\n"
      ],
      "metadata": {
        "id": "EZsNsgXlR6u-"
      }
    },
    {
      "cell_type": "code",
      "source": [
        "df = data.drop('instance_id', axis=1)\n",
        "df.drop('obtained_date', inplace=True, axis=1)"
      ],
      "metadata": {
        "id": "b5cQvdDkgXmv"
      },
      "execution_count": 14,
      "outputs": []
    },
    {
      "cell_type": "code",
      "source": [
        "df.head()"
      ],
      "metadata": {
        "id": "_jqbXD_1hfuu"
      },
      "execution_count": null,
      "outputs": []
    },
    {
      "cell_type": "code",
      "source": [
        "df.shape"
      ],
      "metadata": {
        "id": "tOgf49xNhuJp",
        "outputId": "960cfcaa-8248-488b-e0f6-0c007c1603f6",
        "colab": {
          "base_uri": "https://localhost:8080/"
        }
      },
      "execution_count": 19,
      "outputs": [
        {
          "output_type": "execute_result",
          "data": {
            "text/plain": [
              "(50005, 16)"
            ]
          },
          "metadata": {},
          "execution_count": 19
        }
      ]
    },
    {
      "cell_type": "markdown",
      "source": [
        "## Конструирование признаков\n",
        "\n",
        "Я все же вижу смысл модели посмотреть на элементарные признаки из текста.\n",
        "\n",
        "Количество слов у исполнителя,\n",
        "Наличие скобок в тексте песни\n"
      ],
      "metadata": {
        "id": "p27x5AuEUDJO"
      }
    },
    {
      "cell_type": "markdown",
      "source": [
        "На будущее\n",
        "\n",
        "Преобразовать тональности по кварто-квинтовому кругу в круг\n",
        "И по хроматической гамме"
      ],
      "metadata": {
        "id": "v3HQ7DLQUO7m"
      }
    },
    {
      "cell_type": "markdown",
      "source": [
        "# Кодирование категориальных данных\n",
        "\n"
      ],
      "metadata": {
        "id": "JHBx9xnIh9-P"
      }
    },
    {
      "cell_type": "markdown",
      "source": [
        "## Тональность\n",
        "\n",
        "По своей сути, тональность (key) имеет циклическую структру, более того, круги можно сделать даже разные\n",
        "\n",
        "*   Хроматический круг - берем ноты по порядку: C, C#, D, D#,...\n",
        "*   Кварто-квинтовый круг для мажора - C, G, D, A, E, B,...\n",
        "*   Кварто-квинтовый круг для минора - A, E, B, F#, C#\n",
        "\n",
        "По сути, тут кодирование такое же, как и у времени\n",
        "https://stats.stackexchange.com/questions/311494/best-practice-for-encoding-datetime-in-machine-learning"
      ],
      "metadata": {
        "id": "KrFjwdwHuKkt"
      }
    },
    {
      "cell_type": "markdown",
      "source": [
        "## Жанры\n",
        "\n",
        "Разныз жанров немного, поэтому начнем с OneHot Encoding"
      ],
      "metadata": {
        "id": "ttpE0xY2uLfa"
      }
    }
  ],
  "metadata": {
    "colab": {
      "name": "MusicGenres",
      "provenance": [],
      "toc_visible": true,
      "include_colab_link": true
    },
    "kaggle": {
      "accelerator": "none",
      "dataSources": [
        {
          "datasetId": 1690118,
          "sourceId": 2769452,
          "sourceType": "datasetVersion"
        }
      ],
      "isGpuEnabled": false,
      "isInternetEnabled": false,
      "language": "python",
      "sourceType": "notebook"
    },
    "kernelspec": {
      "display_name": "Python 3 (ipykernel)",
      "language": "python",
      "name": "python3"
    },
    "language_info": {
      "codemirror_mode": {
        "name": "ipython",
        "version": 3
      },
      "file_extension": ".py",
      "mimetype": "text/x-python",
      "name": "python",
      "nbconvert_exporter": "python",
      "pygments_lexer": "ipython3",
      "version": "3.11.3"
    }
  },
  "nbformat": 4,
  "nbformat_minor": 0
}